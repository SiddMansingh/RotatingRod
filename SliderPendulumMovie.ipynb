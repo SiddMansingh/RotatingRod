{
 "cells": [
  {
   "cell_type": "code",
   "execution_count": 1,
   "id": "68af49c2-b518-4d44-9cbb-cbe16da0dfeb",
   "metadata": {},
   "outputs": [
    {
     "name": "stdout",
     "output_type": "stream",
     "text": [
      "98 98\n"
     ]
    },
    {
     "data": {
      "text/plain": [
       "<matplotlib.animation.FuncAnimation at 0x2be4a9cf640>"
      ]
     },
     "execution_count": 1,
     "metadata": {},
     "output_type": "execute_result"
    },
    {
     "data": {
      "application/vnd.jupyter.widget-view+json": {
       "model_id": "8fd1c70850ce4291be6d021114fb2aed",
       "version_major": 2,
       "version_minor": 0
      },
      "image/png": "[encoded data removed]",
      "text/html": [
       "\n",
       "            <div style=\"display: inline-block;\">\n",
       "                <div class=\"jupyter-widgets widget-label\" style=\"text-align: center;\">\n",
       "                    Figure\n",
       "                </div>\n",
       "                <img src='data:image/png;base64,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' width=600.0/>\n",
       "            </div>\n",
       "        "
      ],
      "text/plain": [
       "Canvas(toolbar=Toolbar(toolitems=[('Home', 'Reset original view', 'home', 'home'), ('Back', 'Back to previous …"
      ]
     },
     "metadata": {},
     "output_type": "display_data"
    }
   ],
   "source": [
    "import numpy as np\n",
    "%matplotlib widget\n",
    "import matplotlib.pyplot as plt\n",
    "from matplotlib.animation import FuncAnimation \n",
    "from matplotlib.widgets import Slider\n",
    "def F(t, pos, vel, params):\n",
    "    return np.array([-params['m']*params['g']*np.cos(pos[0])*params['L']/2])\n",
    "\n",
    "# RK4\n",
    "def f(t, z, params):\n",
    "  return np.array([z[1], F(t, z[0], z[1], params)/params['I']])\n",
    "\n",
    "def Step(t, pos, vel, params):\n",
    "  z = np.array([pos, vel])\n",
    "  k1 = f(t, np.array([pos, vel]), params)\n",
    "  k2 = f(t + params['dt']/2, z + params['dt'] * k1/2, params)\n",
    "  k3 = f(t + params['dt']/2, z + params['dt'] * k2/2, params)\n",
    "  k4 = f(t + params['dt'], z + params['dt'] * k3, params)\n",
    "  new_t = t + params['dt']\n",
    "  new_z = z + params['dt']/6 * (k1 + 2*k2 + 2*k3 + k4)\n",
    "  return new_t, new_z[0], new_z[1]\n",
    "\n",
    "def F2(t, pos, vel, params):\n",
    "  return np.array([-params['m']*params['g']])\n",
    "\n",
    "# RK4\n",
    "def f2(t, z, params):\n",
    "  return np.array([z[1], F2(t, z[0], z[1], params)/params['m']])\n",
    "\n",
    "def Step2(t, pos, vel, params):\n",
    "  z = np.array([pos, vel])\n",
    "  k1 = f2(t, np.array([pos, vel]), params)\n",
    "  k2 = f2(t + params['dt']/2, z + params['dt'] * k1/2, params)\n",
    "  k3 = f2(t + params['dt']/2, z + params['dt'] * k2/2, params)\n",
    "  k4 = f2(t + params['dt'], z + params['dt'] * k3, params)\n",
    "  new_t = t + params['dt']\n",
    "  new_z = z + params['dt']/6 * (k1 + 2*k2 + 2*k3 + k4)\n",
    "  return new_t, new_z[0], new_z[1]\n",
    "\n",
    "# new code\n",
    "def Pendulum(params):\n",
    "  ts = []\n",
    "  rs = []\n",
    "  vs = []\n",
    "  t = 0.0\n",
    "  pos = params[\"r0\"]\n",
    "  vel = params[\"v0\"]\n",
    "  while ((t < params['T']) & (pos>0)):\n",
    "    t, pos, vel = Step(t, pos, vel, params)\n",
    "    \n",
    "    ts.append(t)\n",
    "    rs.append(pos)\n",
    "    vs.append(vel)\n",
    "  return np.array(ts), np.array(rs), np.array(vs)\n",
    "def FreeFall(params):\n",
    "    ts = []\n",
    "    rs = []\n",
    "    vs = []\n",
    "    t = 0.0\n",
    "    pos = np.sin(params[\"r0\"])*params['L']\n",
    "    vel = params[\"v0\"]\n",
    "    while ((t < params['T']) & (pos>0)):\n",
    "        t, pos, vel = Step2(t, pos, vel, params)\n",
    "        \n",
    "        ts.append(t)\n",
    "        rs.append(pos)\n",
    "        vs.append(vel)\n",
    "    return np.array(ts), np.array(rs), np.array(vs)\n",
    "\n",
    "w = np.arccos(np.sqrt(2/3))\n",
    "r = 2\n",
    "\n",
    "\n",
    "\n",
    "param = {'m': 1.0,\n",
    "         'dt': 0.005,\n",
    "         'g': 9.8,\n",
    "         'T': 10.0,\n",
    "         'L': r,\n",
    "         'I' : 0,\n",
    "         'r0': np.array([w]),\n",
    "         'v0': np.array([0.0])}\n",
    "param['I'] = param['m']*(param['L']**2)/3\n",
    "times, positions, velocities = Pendulum(param)\n",
    "\n",
    "\n",
    "times2, positions2, velocities2 = FreeFall(param)\n",
    "\n",
    "\n",
    "if (len(times)<len(times2)):\n",
    "    for i in range(len(times2)-len(times)):\n",
    "        positions = np.insert(positions,-1,positions[-1])\n",
    "        times = np.insert(times,-1,times[-1])\n",
    "        velocities = np.insert(velocities,-1,velocities[-1])\n",
    "if(len(times2)<len(times)):\n",
    "    for i in range(len(times)-len(times2)):\n",
    "        positions2 = np.insert(positions2,-1,positions2[-1])\n",
    "        times2 = np.insert(times2,-1,times2[-1])\n",
    "        velocities2 = np.insert(velocities2,-1,velocities2[-1])\n",
    "old_L = param['L']\n",
    "old_r0 = param['r0']\n",
    "\n",
    "\n",
    "\n",
    "fig = plt.figure(figsize=(6,7))\n",
    "ax = fig.add_subplot(111, aspect='equal', autoscale_on=False, position=[.15,.15,.75,.75] )\n",
    "# ax.grid()\n",
    "\n",
    "\n",
    "\n",
    "\n",
    "# orbit\n",
    "orb, = ax.plot([], [],'-', color = \"g\")\n",
    "ball, = ax.plot([], [],'o', color = \"r\")\n",
    "init_orb, = ax.plot([], [],'-', color = \"b\")\n",
    "# time\n",
    "time_text = ax.text(0.02, 0.95, '', transform=ax.transAxes)\n",
    "\n",
    "def init():\n",
    "    ax.plot([0], ms=7, c='k',marker='o')\n",
    "    # orb.set_data([0,r*np.cos(positions[t])],[0,r*np.sin(positions[t])])\n",
    "    \n",
    "def verify(L,r0):\n",
    "    global old_L, old_r0, param, times, positions, velocities, times2, positions2, velocities2\n",
    "    if(old_L!=L or old_r0!=r0):\n",
    "        old_L = L\n",
    "        \n",
    "        param['L'] = L\n",
    "        param['r0'] = np.array([r0])\n",
    "        old_r0 = param['r0']\n",
    "        param['I'] = param['m']*(param['L']**2)/3\n",
    "\n",
    "        times, positions, velocities = Pendulum(param)\n",
    "        times2, positions2, velocities2 = FreeFall(param)\n",
    "        if (len(times)<len(times2)):\n",
    "            for i in range(len(times2)-len(times)):\n",
    "                positions = np.insert(positions,-1,positions[-1])\n",
    "                times = np.insert(times,-1,times[-1])\n",
    "                velocities = np.insert(velocities,-1,velocities[-1])\n",
    "        if(len(times2)<len(times)):\n",
    "            for i in range(len(times)-len(times2)):\n",
    "                positions2 = np.insert(positions2,-1,positions2[-1])\n",
    "                times2 = np.insert(times2,-1,times2[-1])\n",
    "                velocities2 = np.insert(velocities2,-1,velocities2[-1])\n",
    "print(len(times),len(times2))\n",
    "def update(t):\n",
    "    global r, w, param, times, positions, velocities, times2, positions2, velocities2\n",
    "    w = s_w.val\n",
    "    r = s_r.val\n",
    "    ax.set_xlim(-(r)*0.051, (r)*1.51)\n",
    "    ax.set_ylim(-(r)*0.051, (r)*1.51)  \n",
    "    verify(r,w)\n",
    "    # x,y = positions(t)\n",
    "    # x_e = []\n",
    "    # y_e = []\n",
    "    # x_e.append(x)\n",
    "    # y_e.append(y)\n",
    "    # traj_e.set_data(x_e[-M:-1], y_e[-M:-1])\n",
    "    # print(len(times))\n",
    "    positions = positions.flatten()\n",
    "    positions2 = positions2.flatten()\n",
    "    if(t<len(times)):\n",
    "        init_orb.set_data([0,r*np.cos(positions[0])],[0,r*np.sin(positions[0])])\n",
    "        orb.set_data([0,r*np.cos(positions[t])],[0,r*np.sin(positions[t])])\n",
    "        ball.set_data([r*np.cos(positions[0])],[positions2[t]])\n",
    "    # e.set_data(x, y)\n",
    "\n",
    "        time_text.set_text('time = %.2f' % times[t])\n",
    "    return orb, init_orb\n",
    "\n",
    "ax_w = plt.axes([0.1, 0.05, 0.35, 0.03])#, facecolor=axcolor)\n",
    "ax_r = plt.axes([0.55, 0.05, 0.35, 0.03])#, facecolor=axcolor)\n",
    "\n",
    "s_w = Slider(ax_w, r'$\\theta_0$', 0, np.pi/2, valinit=w, valstep=0.01)\n",
    "s_r = Slider(ax_r, r'$L$', 0, 5, valinit=r, valstep=0.2)\n",
    "s_w.on_changed(update)\n",
    "s_r.on_changed(update)\n",
    "\n",
    "def anim():\n",
    "    # fig.canvas.draw_idle()\n",
    "    global times\n",
    "    return FuncAnimation(fig, update, frames=int(len(times)),#np.linspace(0, T_final, T_final*fps),\n",
    "                         blit=True, interval=30)\n",
    "\n",
    "anim()"
   ]
  },
  {
   "cell_type": "code",
   "execution_count": null,
   "id": "f236480e-764c-4e6d-a851-24652c4541f4",
   "metadata": {},
   "outputs": [],
   "source": [
    "fig,ax = plt.subplots(figsize=(6,7))\n",
    "ax.plot(times,positions)\n",
    "plt.show()"
   ]
  },
  {
   "cell_type": "code",
   "execution_count": null,
   "id": "a2e3c857-d706-435e-98d5-7924e5c909b6",
   "metadata": {},
   "outputs": [],
   "source": [
    "times2[-1]**2*param['g']*0.5-param['L']*np.sin(param['r0'])"
   ]
  },
  {
   "cell_type": "code",
   "execution_count": null,
   "id": "b59af6cc-a1d1-43c0-8e47-d9de509a80c1",
   "metadata": {},
   "outputs": [],
   "source": [
    "np.deg2rad(90)\n"
   ]
  },
  {
   "cell_type": "code",
   "execution_count": 2,
   "id": "ee926c72-7f0b-4ac2-ade3-b1080c45f83c",
   "metadata": {},
   "outputs": [
    {
     "data": {
      "text/plain": [
       "35.264389682754654"
      ]
     },
     "execution_count": 2,
     "metadata": {},
     "output_type": "execute_result"
    }
   ],
   "source": [
    "np.rad2deg(np.arccos(np.sqrt(2/3)))"
   ]
  },
  {
   "cell_type": "code",
   "execution_count": null,
   "id": "19d28be6-0347-46d2-a9e4-79f9b21b23bc",
   "metadata": {},
   "outputs": [],
   "source": [
    "np.cos(np.deg2rad(35.264389682754654))**2"
   ]
  },
  {
   "cell_type": "code",
   "execution_count": 3,
   "id": "eaeccb1f-af5b-4e22-a438-be8038297324",
   "metadata": {},
   "outputs": [
    {
     "data": {
      "text/plain": [
       "0.816496580927726"
      ]
     },
     "execution_count": 3,
     "metadata": {},
     "output_type": "execute_result"
    }
   ],
   "source": [
    "np.sqrt(2/3)"
   ]
  }
 ],
 "metadata": {
  "kernelspec": {
   "display_name": "Python 3 (ipykernel)",
   "language": "python",
   "name": "python3"
  },
  "language_info": {
   "codemirror_mode": {
    "name": "ipython",
    "version": 3
   },
   "file_extension": ".py",
   "mimetype": "text/x-python",
   "name": "python",
   "nbconvert_exporter": "python",
   "pygments_lexer": "ipython3",
   "version": "3.10.13"
  }
 },
 "nbformat": 4,
 "nbformat_minor": 5
}
